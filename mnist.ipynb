{
 "cells": [
  {
   "cell_type": "code",
   "execution_count": 1,
   "metadata": {},
   "outputs": [],
   "source": [
    "import numpy as np\n",
    "import pandas as pd\n",
    "import matplotlib.pyplot as plt"
   ]
  },
  {
   "cell_type": "markdown",
   "metadata": {},
   "source": [
    "## Data Import and Prep ##"
   ]
  },
  {
   "cell_type": "code",
   "execution_count": 2,
   "metadata": {},
   "outputs": [],
   "source": [
    "data = pd.read_csv('train.csv')"
   ]
  },
  {
   "cell_type": "code",
   "execution_count": 97,
   "metadata": {},
   "outputs": [],
   "source": [
    "data = np.array(data)\n",
    "np.random.shuffle(data)\n",
    "\n",
    "# Split the data to train and test\n",
    "train_data = data[:33600, 1:].transpose()\n",
    "train_labels = data[:33600 ,0]\n",
    "\n",
    "test_data = data[33601:, 1:].transpose()\n",
    "test_labels = data[33601:, 0]"
   ]
  },
  {
   "cell_type": "markdown",
   "metadata": {},
   "source": [
    "## Manual Testing ##"
   ]
  },
  {
   "cell_type": "code",
   "execution_count": 167,
   "metadata": {},
   "outputs": [],
   "source": [
    "w1 = np.random.randn(10,784) * 0.01\n",
    "b1 = np.random.randn(10, 1) * 0.01"
   ]
  },
  {
   "cell_type": "code",
   "execution_count": 168,
   "metadata": {},
   "outputs": [],
   "source": [
    "z1 = np.matmul(w1, train_data) + b1"
   ]
  },
  {
   "cell_type": "code",
   "execution_count": 123,
   "metadata": {},
   "outputs": [
    {
     "data": {
      "text/plain": [
       "(10, 33600)"
      ]
     },
     "execution_count": 123,
     "metadata": {},
     "output_type": "execute_result"
    }
   ],
   "source": [
    "z1.shape"
   ]
  },
  {
   "cell_type": "code",
   "execution_count": 124,
   "metadata": {},
   "outputs": [],
   "source": [
    "def Relu(matrix):\n",
    "    for i in range(0, matrix.shape[1]):\n",
    "        for j in range(0, 10):\n",
    "            if matrix[j,i] < 0:\n",
    "                matrix[j,i] = 0\n",
    "            \n",
    "    return matrix"
   ]
  },
  {
   "cell_type": "code",
   "execution_count": 125,
   "metadata": {},
   "outputs": [],
   "source": [
    "a1 = Relu(z1)"
   ]
  },
  {
   "cell_type": "code",
   "execution_count": 130,
   "metadata": {},
   "outputs": [
    {
     "data": {
      "text/plain": [
       "array([[   0.        ,    0.        ,    0.        , ...,    0.        ,\n",
       "           0.        ,    0.        ],\n",
       "       [1664.97589461,    0.        , 1023.51196007, ...,    0.        ,\n",
       "         905.42105208,  349.23207221],\n",
       "       [1764.16562412, 3270.88019555,    0.        , ..., 3533.6729674 ,\n",
       "        1832.45166582,    0.        ],\n",
       "       ...,\n",
       "       [1186.29238091, 3514.72689112,    0.        , ...,    0.        ,\n",
       "        1535.31065586, 3331.28267939],\n",
       "       [   0.        ,    0.        ,    0.        , ...,    0.        ,\n",
       "           0.        ,    0.        ],\n",
       "       [1294.27118489,    0.        ,    0.        , ...,    0.        ,\n",
       "           0.        ,    0.        ]])"
      ]
     },
     "execution_count": 130,
     "metadata": {},
     "output_type": "execute_result"
    }
   ],
   "source": [
    "a1"
   ]
  },
  {
   "cell_type": "code",
   "execution_count": 165,
   "metadata": {},
   "outputs": [],
   "source": [
    "w2 = np.random.randn(10,10) * 0.01\n",
    "b2 = np.random.randn(10, 1) * 0.01"
   ]
  },
  {
   "cell_type": "code",
   "execution_count": 132,
   "metadata": {},
   "outputs": [],
   "source": [
    "z2 = np.matmul(w2, a1) + b2"
   ]
  },
  {
   "cell_type": "code",
   "execution_count": 133,
   "metadata": {},
   "outputs": [],
   "source": [
    "def Softmax(logits):\n",
    "    exp_logits = np.exp(logits - np.max(logits, axis=1, keepdims=True))  # Numerical stability improvement\n",
    "    return exp_logits / np.sum(exp_logits, axis=1, keepdims=True)"
   ]
  },
  {
   "cell_type": "code",
   "execution_count": 134,
   "metadata": {},
   "outputs": [],
   "source": [
    "a2 = Softmax(z2)"
   ]
  },
  {
   "cell_type": "code",
   "execution_count": 135,
   "metadata": {},
   "outputs": [
    {
     "data": {
      "text/plain": [
       "(10, 33600)"
      ]
     },
     "execution_count": 135,
     "metadata": {},
     "output_type": "execute_result"
    }
   ],
   "source": [
    "a2.shape"
   ]
  },
  {
   "cell_type": "code",
   "execution_count": 144,
   "metadata": {},
   "outputs": [
    {
     "data": {
      "text/plain": [
       "(784, 33600)"
      ]
     },
     "execution_count": 144,
     "metadata": {},
     "output_type": "execute_result"
    }
   ],
   "source": [
    "train_data.shape"
   ]
  },
  {
   "cell_type": "markdown",
   "metadata": {},
   "source": [
    "## Code Rewritten in Class format (Locked In)"
   ]
  },
  {
   "cell_type": "code",
   "execution_count": 208,
   "metadata": {},
   "outputs": [],
   "source": [
    "def Relu(matrix):\n",
    "    for i in range(0, matrix.shape[1]):\n",
    "        for j in range(0, 10):\n",
    "            if matrix[j,i] < 0:\n",
    "                matrix[j,i] = 0\n",
    "            \n",
    "    return matrix\n",
    "\n",
    "def Softmax(logits):\n",
    "    exp_logits = np.exp(logits - np.max(logits, axis=1, keepdims=True))  # Numerical stability improvement\n",
    "    return exp_logits / np.sum(exp_logits, axis=1, keepdims=True)\n",
    "\n",
    "class Neural_Network:\n",
    "    def __init__(self, learning_rate=0.01):\n",
    "        # Weights and Biases\n",
    "        self.w1 = np.random.randn(10, 784) * 0.01\n",
    "        self.b1 = np.random.randn(10, 1)   * 0.01\n",
    "        self.w2 = np.random.randn(10, 10)  * 0.01\n",
    "        self.b2 = np.random.randn(10, 1)   * 0.01\n",
    "        \n",
    "        # Others\n",
    "        self.learning_rate = learning_rate\n",
    "        \n",
    "    def forward_pass(self, a0):\n",
    "        # Hidden Layer\n",
    "        self.z1 = np.matmul(self.w1, a0) + self.b1\n",
    "        self.a1 = Relu(z1)\n",
    "        \n",
    "        # Output Layer\n",
    "        self.z2 = np.matmul(self.w2, self.a1) + self.b2\n",
    "        self.a2 = Softmax(self.z2)\n",
    "        \n",
    "        return self.a2\n",
    "    \n",
    "    def cost_function(self, labels):\n",
    "        # one-hot encode labels\n",
    "        self.y = np.zeros((labels.size, labels.max() + 1))\n",
    "        self.y[np.arange(labels.size), labels] = 1\n",
    "        \n",
    "        # Cost Function (Mean Square Error)\n",
    "        self.cost = np.sum(np.power((self.z2 - self.y.transpose()), 2) / 2) / 728\n",
    "        \n",
    "        return self.cost\n",
    "    \n",
    "    def backward_pass(self):\n",
    "        pass\n",
    "    \n",
    "    def grad_descent(self):\n",
    "        pass"
   ]
  },
  {
   "cell_type": "code",
   "execution_count": 205,
   "metadata": {},
   "outputs": [],
   "source": [
    "x = Neural_Network()\n",
    "a2 = x.forward_pass(train_data)"
   ]
  },
  {
   "cell_type": "code",
   "execution_count": 207,
   "metadata": {},
   "outputs": [
    {
     "data": {
      "text/plain": [
       "113.18980830521497"
      ]
     },
     "execution_count": 207,
     "metadata": {},
     "output_type": "execute_result"
    }
   ],
   "source": [
    "cost = x.cost_function(train_labels)\n",
    "cost"
   ]
  },
  {
   "cell_type": "code",
   "execution_count": 185,
   "metadata": {},
   "outputs": [
    {
     "data": {
      "text/plain": [
       "array([0., 0., 0., 0., 1., 0., 0., 0., 0., 0.])"
      ]
     },
     "execution_count": 185,
     "metadata": {},
     "output_type": "execute_result"
    }
   ],
   "source": []
  },
  {
   "cell_type": "code",
   "execution_count": 198,
   "metadata": {},
   "outputs": [
    {
     "data": {
      "text/plain": [
       "104.0157511483567"
      ]
     },
     "execution_count": 198,
     "metadata": {},
     "output_type": "execute_result"
    }
   ],
   "source": []
  },
  {
   "cell_type": "code",
   "execution_count": null,
   "metadata": {},
   "outputs": [],
   "source": []
  }
 ],
 "metadata": {
  "kernelspec": {
   "display_name": "Python 3",
   "language": "python",
   "name": "python3"
  },
  "language_info": {
   "codemirror_mode": {
    "name": "ipython",
    "version": 3
   },
   "file_extension": ".py",
   "mimetype": "text/x-python",
   "name": "python",
   "nbconvert_exporter": "python",
   "pygments_lexer": "ipython3",
   "version": "3.11.3"
  }
 },
 "nbformat": 4,
 "nbformat_minor": 2
}
